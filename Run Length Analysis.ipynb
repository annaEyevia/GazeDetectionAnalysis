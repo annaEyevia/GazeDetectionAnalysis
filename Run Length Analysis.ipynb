{
 "cells": [
  {
   "cell_type": "code",
   "execution_count": 1,
   "metadata": {},
   "outputs": [],
   "source": [
    "import pandas as pd\n",
    "import numpy as np\n",
    "from prettytable import PrettyTable"
   ]
  },
  {
   "cell_type": "code",
   "execution_count": 2,
   "metadata": {},
   "outputs": [],
   "source": [
    "app_files = [\"console_2018-12-27_12-16-52.log\", \"console_2018-12-27_12-45-57.log\", \n",
    "         \"console_2018-12-27_13-49-15.log\", \"console_2018-12-27_14-34-15.log\"]\n",
    "rl_files = [\"run_length_2018-12-27_12-16-18.log\", \"run_length_2018-12-27_12-53-01.log\", \n",
    "            \"run_length_2018-12-27_13-49-32.log\", \"run_length_2018-12-27_14-34-55.log\"]"
   ]
  },
  {
   "cell_type": "code",
   "execution_count": 3,
   "metadata": {},
   "outputs": [],
   "source": [
    "objects = {\"[0, 0, 0, 0, 0, 0]\":\"none\",\n",
    "           \"[1, 0, 0, 0, 0, 0]\":\"cards\", \n",
    "           \"[0, 1, 0, 0, 0, 0]\":\"dice\", \n",
    "           \"[0, 0, 1, 0, 0, 0]\":\"key\",\n",
    "           \"[0, 0, 0, 1, 0, 0]\":\"map\", \n",
    "           \"[0, 0, 0, 0, 1, 0]\":\"phone\", \n",
    "           \"[0, 0, 0, 0, 0, 1]\":\"ball\"}"
   ]
  },
  {
   "cell_type": "code",
   "execution_count": 4,
   "metadata": {},
   "outputs": [],
   "source": [
    "def read_app_file(file_name):\n",
    "    with open(\"data/\" + file_name, \"r\") as f:\n",
    "        lines  = f.readlines()\n",
    "        data = lines[2:-2]\n",
    "        data_list = []\n",
    "        for line in data:\n",
    "            object_time = line.split(\"$1\")[1].split(\"-\")[1].strip().split(\",\")\n",
    "            if object_time[0] == 'cancel':\n",
    "                data_list.pop()\n",
    "            else:\n",
    "                object_time[1] = float(object_time[1].strip())\n",
    "                data_list.append(object_time)\n",
    "    return data_list"
   ]
  },
  {
   "cell_type": "code",
   "execution_count": 5,
   "metadata": {},
   "outputs": [],
   "source": [
    "def read_rl_file(file_name):\n",
    "    with open(\"data/\" + file_name, \"r\") as f:\n",
    "        lines  = f.readlines()\n",
    "        hit_scan_list = []\n",
    "        for line in lines:\n",
    "            parts = line.split(\";\")\n",
    "            time = float(parts[1].split(\"-\")[1])\n",
    "            glass1 = parts[2].split(\"-\")[1]\n",
    "            glass2 = parts[3].split(\"-\")[1]\n",
    "            hit_scan_list.append((time, objects.get(glass1), objects.get(glass2)))\n",
    "    return hit_scan_list"
   ]
  },
  {
   "cell_type": "code",
   "execution_count": 6,
   "metadata": {},
   "outputs": [],
   "source": [
    "def create_ds(app_file, rl_file):\n",
    "    app_data = read_app_file(app_file)\n",
    "    hsl_data = read_rl_file(rl_file)        \n",
    "\n",
    "    ot_rl = []\n",
    "    last_e_ind=0\n",
    "    for i, ot in enumerate(app_data):\n",
    "        s_time = ot[1]\n",
    "\n",
    "        if i != 0:\n",
    "            s_ind = last_e_ind\n",
    "        else:\n",
    "            for j, hsl in enumerate(hsl_data):\n",
    "                if hsl[0] > s_time:\n",
    "                    s_ind = j-1\n",
    "                    break\n",
    "\n",
    "        if i != (len(app_data) -1):\n",
    "            e_time = app_data[i+1][1]\n",
    "            e_ind = 0\n",
    "            for j, hsl in enumerate(hsl_data[s_ind:]):\n",
    "                if hsl[0] > e_time:\n",
    "                    e_ind = s_ind + j\n",
    "                    break\n",
    "            rl = hsl_data[s_ind:e_ind]\n",
    "            last_e_ind = e_ind\n",
    "        else:\n",
    "            rl = hsl_data[s_ind:]\n",
    "        \n",
    "        new_ot = ot.copy()\n",
    "        new_ot.append(rl)\n",
    "        ot_rl.append(new_ot)\n",
    "    return ot_rl   "
   ]
  },
  {
   "cell_type": "code",
   "execution_count": 7,
   "metadata": {},
   "outputs": [],
   "source": [
    "def process_ds(ot_rl_list):\n",
    "    new_ot_rl = []\n",
    "    for ot_rl in ot_rl_list:\n",
    "        obj = ot_rl[0]\n",
    "        rl_data = ot_rl[2]\n",
    "        timeseries = []\n",
    "        detections = []\n",
    "        for rl in rl_data:\n",
    "            timeseries.append(rl[0])\n",
    "            detection = 0\n",
    "            if obj == rl[1] and obj == rl[2]:\n",
    "                detection = 1\n",
    "            detections.append(detection)\n",
    "        rld = {\"ts\":timeseries, \"hits\":detections}\n",
    "        new_data = (obj, ot_rl[1], rld)\n",
    "        new_ot_rl.append(new_data)\n",
    "    return new_ot_rl"
   ]
  },
  {
   "cell_type": "code",
   "execution_count": 8,
   "metadata": {},
   "outputs": [],
   "source": [
    "tot_ot_rl = []\n",
    "for i in range(len(app_files)):\n",
    "    ot_rl = create_ds(app_files[i], rl_files[i])\n",
    "    tot_ot_rl.extend(ot_rl)"
   ]
  },
  {
   "cell_type": "code",
   "execution_count": 9,
   "metadata": {},
   "outputs": [],
   "source": [
    "new_ot_rl = process_ds(tot_ot_rl)"
   ]
  },
  {
   "cell_type": "code",
   "execution_count": 10,
   "metadata": {},
   "outputs": [],
   "source": [
    "class RunLengthFilter:\n",
    "    \n",
    "    def __init__(self, ot_rl_list, true_look_size, true_look_delta):\n",
    "        self.data = ot_rl_list\n",
    "        self.true_size = true_look_size\n",
    "        self.true_delta = true_look_delta\n",
    "        self.true_looks = self.determine_true_looks()\n",
    "        \n",
    "    def rl_filter(self, window_size, num_ones):\n",
    "        \n",
    "        df = {'object':[], 'app_time':[], 'look_time':[], 'true_look_start':self.true_looks, 'is_true_look':[]}\n",
    "        diff = window_size - num_ones\n",
    "        \n",
    "        for idx, ot_rl in enumerate(self.data):\n",
    "            df['object'].append(ot_rl[0])\n",
    "            df['app_time'].append(ot_rl[1])\n",
    "            \n",
    "            rl_data = ot_rl[2]\n",
    "            ts = rl_data['ts']\n",
    "            hits = rl_data['hits']\n",
    "            \n",
    "            s_time = look_time = 0\n",
    "            true_look = self.true_looks[idx]\n",
    "            \n",
    "            for i in range(-diff, len(ts)):\n",
    "                if i<0:\n",
    "                    s_idx = 0\n",
    "                else:\n",
    "                    s_idx = i\n",
    "                e_idx = i + window_size\n",
    "                if sum(hits[s_idx:e_idx]) == num_ones:\n",
    "                    look_time = ts[e_idx-1]\n",
    "                    s_time = ts[s_idx]\n",
    "                    break\n",
    "            df['look_time'].append(look_time)\n",
    "            if s_time == true_look:\n",
    "                df[\"is_true_look\"].append(1)\n",
    "            else:\n",
    "                df[\"is_true_look\"].append(0)\n",
    "                \n",
    "        df = pd.DataFrame(df)\n",
    "        df['latency'] = df['look_time'] - df['app_time']\n",
    "        return df\n",
    "    \n",
    "    def determine_true_looks(self):\n",
    "        start_look = []\n",
    "        for ot_rl in self.data:\n",
    "            rl_data = ot_rl[2]\n",
    "            ts = rl_data['ts']\n",
    "            hits = rl_data['hits']\n",
    "            start_time = 0\n",
    "            delta = self.true_delta\n",
    "            start_idx = 0\n",
    "            for i in range(len(ts)):\n",
    "                start_idx = i\n",
    "                e_idx = i + self.true_size\n",
    "                if sum(hits[i:e_idx]) == self.true_size:\n",
    "                    while (delta > 0):\n",
    "                        if i-delta >= 0 and hits[i-delta] == 1:\n",
    "                            start_idx = i-delta\n",
    "                            break\n",
    "                        delta -= 1\n",
    "                    break\n",
    "            start_look.append(ts[start_idx])\n",
    "        return start_look"
   ]
  },
  {
   "cell_type": "code",
   "execution_count": 11,
   "metadata": {},
   "outputs": [],
   "source": [
    "rl = RunLengthFilter(new_ot_rl, 4, 3)"
   ]
  },
  {
   "cell_type": "code",
   "execution_count": 12,
   "metadata": {},
   "outputs": [],
   "source": [
    "rl3_df = rl.rl_filter(3, 3)\n",
    "rl4_df = rl.rl_filter(4, 4)\n",
    "rl1_df = rl.rl_filter(1, 1)"
   ]
  },
  {
   "cell_type": "code",
   "execution_count": 13,
   "metadata": {},
   "outputs": [],
   "source": [
    "def summary(df_rl):\n",
    "    rl_dict = {}\n",
    "    for obj in df_rl[\"object\"].unique():\n",
    "        df = df_rl[df_rl[\"object\"] == obj]\n",
    "        m = round(np.mean(df[\"latency\"]), 3)\n",
    "        s = round(np.std(df[\"latency\"]), 3)\n",
    "        tpr = get_tpr(df)\n",
    "        rl_dict[obj] = [m, s, tpr]\n",
    "    return rl_dict\n",
    "\n",
    "def get_tpr(df):\n",
    "    return round((sum(df['is_true_look']) * 100) / len(df), 3)"
   ]
  },
  {
   "cell_type": "code",
   "execution_count": 14,
   "metadata": {},
   "outputs": [],
   "source": [
    "rl3_dict = summary(rl3_df)\n",
    "rl4_dict = summary(rl4_df)\n",
    "rl1_dict = summary(rl1_df)"
   ]
  },
  {
   "cell_type": "code",
   "execution_count": 15,
   "metadata": {},
   "outputs": [
    {
     "name": "stdout",
     "output_type": "stream",
     "text": [
      "+--------+--------------------+---------+--------------------+---------+--------------------+---------+\n",
      "| Object |   RL3 Mean(Std)    | RL3 TPR |   RL4 Mean(Std)    | RL4 TPR |   RL1 Mean(Std)    | RL1 TPR |\n",
      "+--------+--------------------+---------+--------------------+---------+--------------------+---------+\n",
      "|  ball  | 1079.949 (277.459) |  100.0  | 1082.532 (277.079) |  100.0  | 1072.557 (278.293) |  100.0  |\n",
      "| cards  | 1171.658 (299.386) |  100.0  | 1173.544 (299.258) |  100.0  | 1165.43 (299.336)  |  100.0  |\n",
      "|  dice  | 833.291 (213.675)  |  98.734 | 838.291 (214.913)  |  100.0  | 826.405 (213.138)  |  98.734 |\n",
      "|  key   |  896.282 (180.29)  |  100.0  | 899.064 (180.718)  |  100.0  | 890.115 (180.195)  |  100.0  |\n",
      "|  map   | 841.949 (192.959)  |  100.0  | 845.154 (193.077)  |  100.0  | 834.782 (193.257)  |  100.0  |\n",
      "+--------+--------------------+---------+--------------------+---------+--------------------+---------+\n"
     ]
    }
   ],
   "source": [
    "table = PrettyTable([\"Object\", \"RL3 Mean(Std)\", \"RL3 TPR\", \"RL4 Mean(Std)\", \"RL4 TPR\", \"RL1 Mean(Std)\", \"RL1 TPR\"])\n",
    "for obj in rl3_df[\"object\"].unique():\n",
    "    table.add_row([obj, \"{} ({})\".format(rl3_dict[obj][0], rl3_dict[obj][1]), rl3_dict[obj][2], \n",
    "                   \"{} ({})\".format(rl4_dict[obj][0], rl4_dict[obj][1]), rl4_dict[obj][2],\n",
    "                   \"{} ({})\".format(rl1_dict[obj][0], rl1_dict[obj][1]), rl1_dict[obj][2]])\n",
    "print(table)"
   ]
  },
  {
   "cell_type": "code",
   "execution_count": null,
   "metadata": {},
   "outputs": [],
   "source": []
  }
 ],
 "metadata": {
  "kernelspec": {
   "display_name": "Python 3",
   "language": "python",
   "name": "python3"
  },
  "language_info": {
   "codemirror_mode": {
    "name": "ipython",
    "version": 3
   },
   "file_extension": ".py",
   "mimetype": "text/x-python",
   "name": "python",
   "nbconvert_exporter": "python",
   "pygments_lexer": "ipython3",
   "version": "3.6.7"
  }
 },
 "nbformat": 4,
 "nbformat_minor": 2
}
