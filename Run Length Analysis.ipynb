{
 "cells": [
  {
   "cell_type": "code",
   "execution_count": 1,
   "metadata": {},
   "outputs": [],
   "source": [
    "import pandas as pd\n",
    "import numpy as np\n",
    "from prettytable import PrettyTable\n",
    "from matplotlib import pyplot as plt"
   ]
  },
  {
   "cell_type": "code",
   "execution_count": 2,
   "metadata": {},
   "outputs": [],
   "source": [
    "app_files = [\"console_2019-01-03_13-12-33.log\", \"console_2019-01-03_13-37-47.log\", \n",
    "             \"console_2019-01-04_11-36-43.log\", \"console_2019-01-04_12-36-20.log\", \"console_2019-01-04_12-48-20.log\"]\n",
    "rl_files = [\"run_length_2019-01-03_13-04-37.log\", \"run_length_2019-01-03_14-14-09.log\", \n",
    "            \"run_length_2019-01-04_11-51-28.log\", \"run_length_2019-01-04_12-41-08.log\",\n",
    "           \"run_length_2019-01-04_12-53-43.log\"]"
   ]
  },
  {
   "cell_type": "code",
   "execution_count": 3,
   "metadata": {},
   "outputs": [],
   "source": [
    "objects = {\"[0, 0, 0, 0, 0, 0]\":\"none\",\n",
    "           \"[1, 0, 0, 0, 0, 0]\":\"cards\", \n",
    "           \"[0, 1, 0, 0, 0, 0]\":\"dice\", \n",
    "           \"[0, 0, 1, 0, 0, 0]\":\"key\",\n",
    "           \"[0, 0, 0, 1, 0, 0]\":\"map\", \n",
    "           \"[0, 0, 0, 0, 1, 0]\":\"phone\", \n",
    "           \"[0, 0, 0, 0, 0, 1]\":\"ball\"}"
   ]
  },
  {
   "cell_type": "code",
   "execution_count": 4,
   "metadata": {},
   "outputs": [],
   "source": [
    "def read_app_file(file_name):\n",
    "    with open(\"data/\" + file_name, \"r\") as f:\n",
    "        lines  = f.readlines()\n",
    "        data = lines[2:-2]\n",
    "        data_list = []\n",
    "        for line in data:\n",
    "            object_time = line.split(\"$1\")[1].split(\"-\")[1].strip().split(\",\")\n",
    "            if object_time[0] == 'cancel':\n",
    "                data_list.pop()\n",
    "            else:\n",
    "                object_time[1] = float(object_time[1].strip())\n",
    "                data_list.append(object_time)\n",
    "    return data_list"
   ]
  },
  {
   "cell_type": "code",
   "execution_count": 5,
   "metadata": {},
   "outputs": [],
   "source": [
    "def read_rl_file(file_name):\n",
    "    with open(\"data/\" + file_name, \"r\") as f:\n",
    "        lines  = f.readlines()\n",
    "        hit_scan_list = []\n",
    "        for line in lines:\n",
    "            parts = line.split(\";\")\n",
    "            time = float(parts[1].split(\"-\")[1])\n",
    "            glass1 = parts[2].split(\"-\")[1]\n",
    "            glass2 = parts[3].split(\"-\")[1]\n",
    "            hit_scan_list.append((time, objects.get(glass1), objects.get(glass2)))\n",
    "    return hit_scan_list"
   ]
  },
  {
   "cell_type": "code",
   "execution_count": 6,
   "metadata": {},
   "outputs": [],
   "source": [
    "def create_ds(app_file, rl_file):\n",
    "    app_data = read_app_file(app_file)\n",
    "    hsl_data = read_rl_file(rl_file)        \n",
    "\n",
    "    ot_rl = []\n",
    "    last_e_ind=0\n",
    "    for i, ot in enumerate(app_data):\n",
    "        s_time = ot[1]\n",
    "\n",
    "        if i != 0:\n",
    "            s_ind = last_e_ind\n",
    "        else:\n",
    "            for j, hsl in enumerate(hsl_data):\n",
    "                if hsl[0] > s_time:\n",
    "                    s_ind = j-1\n",
    "                    break\n",
    "\n",
    "        if i != (len(app_data) -1):\n",
    "            e_time = app_data[i+1][1]\n",
    "            e_ind = 0\n",
    "            for j, hsl in enumerate(hsl_data[s_ind:]):\n",
    "                if hsl[0] > e_time:\n",
    "                    e_ind = s_ind + j\n",
    "                    break\n",
    "            rl = hsl_data[s_ind:e_ind]\n",
    "            last_e_ind = e_ind\n",
    "        else:\n",
    "            rl = hsl_data[s_ind:]\n",
    "        \n",
    "        new_ot = ot.copy()\n",
    "        new_ot.append(rl)\n",
    "        ot_rl.append(new_ot)\n",
    "    return ot_rl   "
   ]
  },
  {
   "cell_type": "code",
   "execution_count": 7,
   "metadata": {},
   "outputs": [],
   "source": [
    "def process_ds(ot_rl_list):\n",
    "    new_ot_rl = []\n",
    "    for ot_rl in ot_rl_list:\n",
    "        obj = ot_rl[0]\n",
    "        rl_data = ot_rl[2]\n",
    "        timeseries = []\n",
    "        g1_detections = []\n",
    "        g2_detections = []\n",
    "        for rl in rl_data:\n",
    "            timeseries.append(rl[0])\n",
    "            g1_detection = 0\n",
    "            g2_detection = 0\n",
    "            if obj == rl[1]:\n",
    "                g1_detection = 1\n",
    "            if obj == rl[2]:\n",
    "                g2_detection = 1\n",
    "            g1_detections.append(g1_detection)\n",
    "            g2_detections.append(g2_detection)\n",
    "            \n",
    "        rld = {\"ts\":timeseries, \"g1_hits\":g1_detections, \"g2_hits\":g2_detections}\n",
    "        new_data = (obj, ot_rl[1], rld)\n",
    "        new_ot_rl.append(new_data)\n",
    "    return new_ot_rl"
   ]
  },
  {
   "cell_type": "code",
   "execution_count": 8,
   "metadata": {},
   "outputs": [],
   "source": [
    "tot_ot_rl = []\n",
    "for i in range(len(app_files)):\n",
    "    ot_rl = create_ds(app_files[i], rl_files[i])\n",
    "    tot_ot_rl.extend(ot_rl)"
   ]
  },
  {
   "cell_type": "code",
   "execution_count": 9,
   "metadata": {},
   "outputs": [],
   "source": [
    "new_ot_rl = process_ds(tot_ot_rl)"
   ]
  },
  {
   "cell_type": "code",
   "execution_count": 69,
   "metadata": {},
   "outputs": [],
   "source": [
    "class RunLengthFilter:\n",
    "    \n",
    "    def __init__(self, ot_rl_list, true_look_size, true_look_delta):\n",
    "        self.data = ot_rl_list\n",
    "        self.true_size = true_look_size\n",
    "        self.true_delta = true_look_delta\n",
    "        self.g1_true_looks, self.g2_true_looks = self.determine_true_looks()\n",
    "        \n",
    "    def rl_filter(self, window_size, num_ones):\n",
    "        \n",
    "        df = {'object':[], 'app_time':[], 'look_time':[], 'is_true_look':[]}\n",
    "        diff = window_size - num_ones\n",
    "        \n",
    "        for idx, ot_rl in enumerate(self.data):\n",
    "            df['object'].append(ot_rl[0])\n",
    "            df['app_time'].append(ot_rl[1])\n",
    "            \n",
    "            rl_data = ot_rl[2]\n",
    "            ts = rl_data['ts']\n",
    "            g1_hits = rl_data['g1_hits']\n",
    "            g2_hits = rl_data['g2_hits']\n",
    "            \n",
    "            s_time = look_time = 0\n",
    "            g1_tls = self.g1_true_looks[idx]\n",
    "            g2_tls = self.g2_true_looks[idx]\n",
    "            \n",
    "            for i in range(-diff, len(ts)):\n",
    "                if i<0:\n",
    "                    s_idx = 0\n",
    "                else:\n",
    "                    s_idx = i\n",
    "                e_idx = i + window_size\n",
    "                if (g1_hits[s_idx] == 1 and sum(g1_hits[s_idx:e_idx]) >= num_ones \n",
    "                    and g2_hits[s_idx] == 1 and sum(g2_hits[s_idx:e_idx]) >= num_ones):\n",
    "                    look_time = ts[e_idx-1]\n",
    "                    s_time = ts[s_idx]\n",
    "                    break\n",
    "                    \n",
    "            df['look_time'].append(look_time)\n",
    "            check = False\n",
    "            for g1_tl in g1_tls:\n",
    "                for g2_tl in g2_tls:\n",
    "                    if (g1_tl[0] <= s_time <= g1_tl[1] and g2_tl[0] <= s_time <= g2_tl[1]\n",
    "                    and look_time <= g1_tl[1] and look_time <= g2_tl[1]):\n",
    "                        check = True\n",
    "            if check:\n",
    "                df[\"is_true_look\"].append(1)\n",
    "            else:\n",
    "                df[\"is_true_look\"].append(0)\n",
    "                \n",
    "        df = pd.DataFrame(df)\n",
    "        df['latency'] = df['look_time'] - df['app_time']\n",
    "        return df\n",
    "    \n",
    "    def determine_true_looks(self):\n",
    "        def look(ts, hits, delta):\n",
    "            start_idx = end_idx = 0\n",
    "            tl_list = []\n",
    "            for i in range(len(ts)):\n",
    "                start_idx = i\n",
    "                end_idx = i + self.true_size\n",
    "                sdelta = edelta = delta\n",
    "                if sum(hits[i:end_idx]) == self.true_size:\n",
    "                    while (sdelta > 0):\n",
    "                        if i-sdelta >= 0 and hits[i-sdelta] == 1:\n",
    "                            start_idx = i-sdelta\n",
    "                            break\n",
    "                        sdelta -= 1\n",
    "                    while (edelta > 0):\n",
    "                        if i+edelta >= 0 and hits[i+edelta] == 1:\n",
    "                            end_idx = i+edelta\n",
    "                            break\n",
    "                        edelta -= 1\n",
    "                    tl_list.append((ts[start_idx], ts[end_idx-1]))\n",
    "            return tl_list\n",
    "                    \n",
    "        g1_looks = []\n",
    "        g2_looks = []\n",
    "        \n",
    "        for ot_rl in self.data:\n",
    "            rl_data = ot_rl[2]\n",
    "            ts = rl_data['ts']\n",
    "            g1_hits = rl_data['g1_hits']\n",
    "            g2_hits = rl_data['g2_hits']\n",
    "            start_time = 0            \n",
    "            g1_looks.append(look(ts, g1_hits, self.true_delta))\n",
    "            g2_looks.append(look(ts, g1_hits, self.true_delta))\n",
    "        return g1_looks, g2_looks"
   ]
  },
  {
   "cell_type": "code",
   "execution_count": 70,
   "metadata": {},
   "outputs": [
    {
     "data": {
      "text/plain": [
       "470"
      ]
     },
     "execution_count": 70,
     "metadata": {},
     "output_type": "execute_result"
    }
   ],
   "source": [
    "len(new_ot_rl)"
   ]
  },
  {
   "cell_type": "code",
   "execution_count": 71,
   "metadata": {},
   "outputs": [],
   "source": [
    "rl = RunLengthFilter(new_ot_rl, 4, 3)"
   ]
  },
  {
   "cell_type": "code",
   "execution_count": 72,
   "metadata": {},
   "outputs": [],
   "source": [
    "rl3_df = rl.rl_filter(3, 3)\n",
    "rl4_df = rl.rl_filter(4, 4)\n",
    "rl1_df = rl.rl_filter(1, 1)\n",
    "rl2_df = rl.rl_filter(2, 2)\n",
    "rl32_df = rl.rl_filter(3, 2)\n",
    "rl43_df = rl.rl_filter(4, 3) "
   ]
  },
  {
   "cell_type": "code",
   "execution_count": 73,
   "metadata": {},
   "outputs": [],
   "source": [
    "def summary(df_rl):\n",
    "    rl_dict = {}\n",
    "    for obj in df_rl[\"object\"].unique():\n",
    "        df = df_rl[df_rl[\"object\"] == obj]\n",
    "        m = round(np.mean(df[\"latency\"]), 3)\n",
    "        s = round(np.std(df[\"latency\"]), 3)\n",
    "        tpr = get_tpr(df)\n",
    "        rl_dict[obj] = [m, s, tpr]\n",
    "    return rl_dict\n",
    "\n",
    "def get_tpr(df):\n",
    "    return round((sum(df['is_true_look']) * 100) / len(df), 3)"
   ]
  },
  {
   "cell_type": "code",
   "execution_count": 74,
   "metadata": {},
   "outputs": [],
   "source": [
    "rl3_dict = summary(rl3_df)\n",
    "rl4_dict = summary(rl4_df)\n",
    "rl1_dict = summary(rl1_df)\n",
    "rl2_dict = summary(rl2_df)\n",
    "rl32_dict = summary(rl32_df)\n",
    "rl43_dict = summary(rl43_df)"
   ]
  },
  {
   "cell_type": "code",
   "execution_count": 75,
   "metadata": {},
   "outputs": [
    {
     "name": "stdout",
     "output_type": "stream",
     "text": [
      "+--------+-------------------+--------------------+--------------------+--------------------+--------------------+--------------------+\n",
      "| Object |   RL1 Mean(Std)   |   RL2 Mean(Std)    | RL(3,2) Mean(Std)  |   RL3 Mean(Std)    | RL(4,3) Mean(Std)  |   RL4 Mean(Std)    |\n",
      "+--------+-------------------+--------------------+--------------------+--------------------+--------------------+--------------------+\n",
      "|  ball  | 873.096 (169.562) |  924.543 (181.77)  | 965.117 (187.907)  | 978.691 (190.201)  | 1017.649 (193.36)  | 1025.66 (197.471)  |\n",
      "| cards  |  1008.67 (171.51) | 1071.213 (184.451) | 1111.085 (184.489) | 1159.979 (253.218) | 1196.872 (256.126) | 1214.479 (268.151) |\n",
      "|  dice  | 833.862 (233.149) |  911.17 (263.449)  | 946.787 (264.409)  | 974.096 (290.791)  | 1007.809 (290.193) | 1011.117 (290.25)  |\n",
      "|  key   | 826.351 (226.823) | 887.043 (242.837)  | 926.202 (243.635)  | 965.574 (300.988)  | 1005.064 (302.061) | 1008.447 (300.756) |\n",
      "|  map   |  795.181 (137.79) |  849.255 (155.05)  | 889.053 (164.012)  | 903.702 (167.703)  |  945.5 (168.464)   |  951.16 (168.915)  |\n",
      "+--------+-------------------+--------------------+--------------------+--------------------+--------------------+--------------------+\n"
     ]
    }
   ],
   "source": [
    "table = PrettyTable([\"Object\", \"RL1 Mean(Std)\", \"RL2 Mean(Std)\", \"RL(3,2) Mean(Std)\", \"RL3 Mean(Std)\", \"RL(4,3) Mean(Std)\", \n",
    "                     \"RL4 Mean(Std)\"])\n",
    "for obj in rl3_df[\"object\"].unique():\n",
    "    table.add_row([obj, \"{} ({})\".format(rl1_dict[obj][0], rl1_dict[obj][1]),\n",
    "                   \"{} ({})\".format(rl2_dict[obj][0], rl2_dict[obj][1]),\n",
    "                   \"{} ({})\".format(rl32_dict[obj][0], rl32_dict[obj][1]),\n",
    "                   \"{} ({})\".format(rl3_dict[obj][0], rl3_dict[obj][1]),\n",
    "                   \"{} ({})\".format(rl43_dict[obj][0], rl43_dict[obj][1]),\n",
    "                   \"{} ({})\".format(rl4_dict[obj][0], rl4_dict[obj][1])])\n",
    "print(table)"
   ]
  },
  {
   "cell_type": "code",
   "execution_count": 76,
   "metadata": {},
   "outputs": [
    {
     "name": "stdout",
     "output_type": "stream",
     "text": [
      "+--------+---------+---------+-------------+---------+-------------+---------+\n",
      "| Object | RL1 TPR | RL2 TPR | RL(3,2) TPR | RL3 TPR | RL(4,3) TPR | RL4 TPR |\n",
      "+--------+---------+---------+-------------+---------+-------------+---------+\n",
      "|  ball  |  92.553 |  93.617 |    93.617   |  98.936 |    96.809   |  97.872 |\n",
      "| cards  |  94.681 |  94.681 |    93.617   |  96.809 |    96.809   |  100.0  |\n",
      "|  dice  |  91.489 |  97.872 |    97.872   |  100.0  |    95.745   |  95.745 |\n",
      "|  key   |  88.298 |  92.553 |    92.553   |  98.936 |    98.936   |  100.0  |\n",
      "|  map   |  93.617 |  94.681 |    94.681   |  97.872 |    97.872   |  100.0  |\n",
      "+--------+---------+---------+-------------+---------+-------------+---------+\n"
     ]
    }
   ],
   "source": [
    "table = PrettyTable([\"Object\", \"RL1 TPR\",\"RL2 TPR\", \"RL(3,2) TPR\", \"RL3 TPR\", \"RL(4,3) TPR\", \"RL4 TPR\"])\n",
    "for obj in rl3_df[\"object\"].unique():\n",
    "    table.add_row([obj, rl1_dict[obj][2], rl2_dict[obj][2], rl32_dict[obj][2], rl3_dict[obj][2], rl43_dict[obj][2], rl4_dict[obj][2]])\n",
    "print(table)"
   ]
  },
  {
   "cell_type": "code",
   "execution_count": 51,
   "metadata": {},
   "outputs": [
    {
     "name": "stdout",
     "output_type": "stream",
     "text": [
      "ball\n"
     ]
    },
    {
     "data": {
      "image/png": "[encoded data removed]",
      "text/plain": [
       "<Figure size 504x374.4 with 2 Axes>"
      ]
     },
     "metadata": {
      "needs_background": "light"
     },
     "output_type": "display_data"
    },
    {
     "name": "stdout",
     "output_type": "stream",
     "text": [
      "cards\n"
     ]
    },
    {
     "data": {
      "image/png": "[encoded data removed]",
      "text/plain": [
       "<Figure size 504x374.4 with 2 Axes>"
      ]
     },
     "metadata": {
      "needs_background": "light"
     },
     "output_type": "display_data"
    },
    {
     "name": "stdout",
     "output_type": "stream",
     "text": [
      "dice\n"
     ]
    },
    {
     "data": {
      "image/png": "[encoded data removed]",
      "text/plain": [
       "<Figure size 504x374.4 with 2 Axes>"
      ]
     },
     "metadata": {
      "needs_background": "light"
     },
     "output_type": "display_data"
    },
    {
     "name": "stdout",
     "output_type": "stream",
     "text": [
      "key\n"
     ]
    },
    {
     "data": {
      "image/png": "[encoded data removed]",
      "text/plain": [
       "<Figure size 504x374.4 with 2 Axes>"
      ]
     },
     "metadata": {
      "needs_background": "light"
     },
     "output_type": "display_data"
    },
    {
     "name": "stdout",
     "output_type": "stream",
     "text": [
      "map\n"
     ]
    },
    {
     "data": {
      "image/png": "[encoded data removed]",
      "text/plain": [
       "<Figure size 504x374.4 with 2 Axes>"
      ]
     },
     "metadata": {
      "needs_background": "light"
     },
     "output_type": "display_data"
    }
   ],
   "source": [
    "for obj in rl3_df[\"object\"].unique():\n",
    "    obj_dict = {'labels':['RL(1,1)','RL(2,2)','RL(3,2)','RL(3,3)','RL(4,3)', 'RL(4,4)'], \n",
    "            'mean':[rl1_dict[obj][0], rl2_dict[obj][0], rl32_dict[obj][0], rl3_dict[obj][0], rl43_dict[obj][0], rl4_dict[obj][0]], \n",
    "            'std':[rl1_dict[obj][1], rl2_dict[obj][1], rl32_dict[obj][1], rl3_dict[obj][1], rl43_dict[obj][1], rl4_dict[obj][1]], \n",
    "            'tpr':[rl1_dict[obj][2], rl2_dict[obj][2], rl32_dict[obj][2], rl3_dict[obj][2], rl43_dict[obj][2], rl4_dict[obj][2]]}\n",
    "    print(obj)\n",
    "    fig = plt.figure(figsize=(7,5.2)) # Create matplotlib figure\n",
    "\n",
    "    ind  = np.arange(6)\n",
    "    ax = fig.add_subplot(111) # Create matplotlib axes\n",
    "    ax2 = ax.twinx() # Create another axes that shares the same x-axis as ax.\n",
    "\n",
    "    width = 0.4\n",
    "    rects1 = ax.bar(ind, [a-500 for a in obj_dict['mean']], width, color='r', yerr=obj_dict['std'])\n",
    "    rects2 = ax2.bar(ind + width, obj_dict['tpr'], width, color='y')\n",
    "\n",
    "    ax.set_ylabel('Estimated Detection Time (EDT) (ms)')\n",
    "    ax2.set_ylabel('Look Positive Predictive Value (LPPV) (%)')\n",
    "    \n",
    "    ax.set_xticks(ind + width / 2)\n",
    "    ax.set_xticklabels(obj_dict['labels'])\n",
    "    ax.legend((rects1[0], rects2[0]), ('EDT', 'LPPV'), loc=2)\n",
    "    plt.savefig(obj + \".png\")\n",
    "    plt.show()"
   ]
  },
  {
   "cell_type": "code",
   "execution_count": 19,
   "metadata": {},
   "outputs": [],
   "source": [
    "table2 = PrettyTable(['Metric', 'RL(1,1)','RL(2,2)','RL(3,2)','RL(3,3)','RL(4,3)', 'RL(4,4)'])\n",
    "table2.add_row(['Mean Latency', round(np.mean(rl1_df['latency']), 2), round(np.mean(rl2_df['latency']), 2),\n",
    "            round(np.mean(rl32_df['latency']), 2), round(np.mean(rl3_df['latency']), 2), \n",
    "            round(np.mean(rl43_df['latency']), 2), round(np.mean(rl4_df['latency']), 2)])\n",
    "table2.add_row(['Std Latency', round(np.std(rl1_df['latency']), 2), round(np.std(rl2_df['latency']), 2),\n",
    "            round(np.std(rl32_df['latency']), 2), round(np.std(rl3_df['latency']), 2), \n",
    "            round(np.std(rl43_df['latency']), 2), round(np.std(rl4_df['latency']), 2)])\n",
    "table2.add_row([\"TLDR\", get_tpr(rl1_df), get_tpr(rl2_df),get_tpr(rl32_df),get_tpr(rl3_df),get_tpr(rl43_df),get_tpr(rl4_df)])                                              "
   ]
  },
  {
   "cell_type": "code",
   "execution_count": 20,
   "metadata": {},
   "outputs": [
    {
     "name": "stdout",
     "output_type": "stream",
     "text": [
      "+--------------+---------+---------+---------+---------+---------+---------+\n",
      "|    Metric    | RL(1,1) | RL(2,2) | RL(3,2) | RL(3,3) | RL(4,3) | RL(4,4) |\n",
      "+--------------+---------+---------+---------+---------+---------+---------+\n",
      "| Mean Latency |  867.43 |  928.64 |  967.65 |  996.41 | 1034.58 | 1042.17 |\n",
      "| Std Latency  |  205.41 |  222.78 |  225.58 |  261.03 |  261.9  |  266.26 |\n",
      "|     TLDR     |  92.553 |  95.106 |  95.106 |  98.936 |  98.936 |  100.0  |\n",
      "+--------------+---------+---------+---------+---------+---------+---------+\n"
     ]
    }
   ],
   "source": [
    "print(table2)"
   ]
  },
  {
   "cell_type": "code",
   "execution_count": 21,
   "metadata": {},
   "outputs": [
    {
     "name": "stdout",
     "output_type": "stream",
     "text": [
      "time-1546635228970 Frame1-150005 time-1546635657578 Frame1-162820\n"
     ]
    }
   ],
   "source": [
    "with open(\"data/\" + rl_files[4], \"r\") as f:\n",
    "    lines  = f.readlines()\n",
    "    hit_scan_list = []\n",
    "    first = lines[0].split(\";\")\n",
    "    last = lines[-1].split(\";\")\n",
    "    print(first[1], first[6], last[1], last[6])\n",
    "    time_diff = float(last[1].split(\"-\")[1]) - float(first[1].split(\"-\")[1])\n",
    "    frame_diff = float(last[6].split(\"-\")[1]) - float(first[6].split(\"-\")[1])"
   ]
  },
  {
   "cell_type": "code",
   "execution_count": 22,
   "metadata": {},
   "outputs": [
    {
     "data": {
      "text/plain": [
       "0.02989911527549649"
      ]
     },
     "execution_count": 22,
     "metadata": {},
     "output_type": "execute_result"
    }
   ],
   "source": [
    "frame_diff / time_diff"
   ]
  },
  {
   "cell_type": "code",
   "execution_count": 23,
   "metadata": {},
   "outputs": [
    {
     "data": {
      "text/plain": [
       "470"
      ]
     },
     "execution_count": 23,
     "metadata": {},
     "output_type": "execute_result"
    }
   ],
   "source": [
    "len(new_ot_rl)"
   ]
  },
  {
   "cell_type": "code",
   "execution_count": null,
   "metadata": {},
   "outputs": [],
   "source": []
  }
 ],
 "metadata": {
  "kernelspec": {
   "display_name": "Python 3",
   "language": "python",
   "name": "python3"
  },
  "language_info": {
   "codemirror_mode": {
    "name": "ipython",
    "version": 3
   },
   "file_extension": ".py",
   "mimetype": "text/x-python",
   "name": "python",
   "nbconvert_exporter": "python",
   "pygments_lexer": "ipython3",
   "version": "3.6.7"
  }
 },
 "nbformat": 4,
 "nbformat_minor": 2
}
